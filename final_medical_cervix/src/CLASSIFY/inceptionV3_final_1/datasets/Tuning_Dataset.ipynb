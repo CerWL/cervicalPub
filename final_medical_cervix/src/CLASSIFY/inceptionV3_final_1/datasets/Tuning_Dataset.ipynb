{
 "cells": [
  {
   "cell_type": "code",
   "execution_count": 1,
   "metadata": {
    "ExecuteTime": {
     "end_time": "2019-03-06T01:35:49.754085Z",
     "start_time": "2019-03-06T01:35:49.454720Z"
    }
   },
   "outputs": [],
   "source": [
    "import numpy as np\n",
    "import pandas as pd\n",
    "import cv2\n",
    "import os\n",
    "import shutil"
   ]
  },
  {
   "cell_type": "code",
   "execution_count": 2,
   "metadata": {
    "ExecuteTime": {
     "end_time": "2019-03-06T01:35:49.764404Z",
     "start_time": "2019-03-06T01:35:49.755911Z"
    }
   },
   "outputs": [
    {
     "data": {
      "text/plain": [
       "'/opt/zhuoyao_workspace/github/final_medical_cervix/src/CLASSIFY/inceptionV3_final_1/datasets'"
      ]
     },
     "execution_count": 2,
     "metadata": {},
     "output_type": "execute_result"
    }
   ],
   "source": [
    "os.getcwd()"
   ]
  },
  {
   "cell_type": "code",
   "execution_count": 3,
   "metadata": {
    "ExecuteTime": {
     "end_time": "2019-03-06T01:35:49.774796Z",
     "start_time": "2019-03-06T01:35:49.766468Z"
    }
   },
   "outputs": [
    {
     "data": {
      "text/plain": [
       "['classify_denoise_2018',\n",
       " 'classify_nodenoise_2019',\n",
       " 'classify_nodenoise_2018',\n",
       " 'classify_bak',\n",
       " '.ipynb_checkpoints',\n",
       " 'classify_darken_2018',\n",
       " 'classify_denoise_2019',\n",
       " 'classify',\n",
       " 'Tuning_Dataset.ipynb',\n",
       " 'classify_recrop_2018',\n",
       " 'test.txt',\n",
       " 'classify_recrop_2019',\n",
       " '2018-12-14',\n",
       " '20190205_data',\n",
       " '2019_0205_dst',\n",
       " 'train_labels_nodenoise_2018.csv_bak',\n",
       " 'train_labels_nodenoise_2019.csv_bak',\n",
       " 'train_labels_nodenoise_2019.csv',\n",
       " 'train_labels_nodenoise_2018.csv',\n",
       " 'classify_test',\n",
       " 'train_labels_test.csv',\n",
       " 'train_labels_test_dummy.csv',\n",
       " 'classify_recrop',\n",
       " 'clean.sh']"
      ]
     },
     "execution_count": 3,
     "metadata": {},
     "output_type": "execute_result"
    }
   ],
   "source": [
    "os.listdir(os.getcwd())"
   ]
  },
  {
   "cell_type": "code",
   "execution_count": 4,
   "metadata": {
    "ExecuteTime": {
     "end_time": "2019-03-06T01:35:49.784909Z",
     "start_time": "2019-03-06T01:35:49.777405Z"
    }
   },
   "outputs": [],
   "source": [
    "def crop(img, index, box, dst_path):\n",
    "    x1, y1, w1, h1 = box\n",
    "    cropped = img[y1:y1 + h1, x1:x1 + w1, :]\n",
    "    cropped_filename = os.path.join(dst_path, str(index) + '.png')\n",
    "    if not cv2.imwrite(cropped_filename, cropped):\n",
    "        print(\"Image copy error, %s\" % cropped_filename)\n",
    "    \n",
    "def draw_box(img, index, box):\n",
    "    x1, y1, w1, h1 = box\n",
    "    \n",
    "    cv2.rectangle(img, (x1, y1), (x1 + w1, y1 + h1), (0, 255, 0), 1)\n",
    "    #cv2.drawContours(img,cnt,-1,(0,255,0),1)\n",
    "    cv2.putText(img, str(index), (x1, y1 + h1), cv2.FONT_HERSHEY_SIMPLEX, \n",
    "                0.7, (0, 255, 255), lineType=cv2.LINE_AA) "
   ]
  },
  {
   "cell_type": "markdown",
   "metadata": {
    "heading_collapsed": true
   },
   "source": [
    "# Copy missing images"
   ]
  },
  {
   "cell_type": "markdown",
   "metadata": {
    "ExecuteTime": {
     "end_time": "2019-01-16T10:18:02.526830Z",
     "start_time": "2019-01-16T10:18:00.715074Z"
    },
    "hidden": true
   },
   "source": [
    "l = ['NILM_IMG001x005.png_output',\n",
    "'NILM_IMG001x010.png_output',\n",
    "'NILM_IMG002x006.png_output',\n",
    "'NILM_IMG002x014.png_output',\n",
    "'NILM_IMG002x017.png_output',\n",
    "'NILM_IMG003x002.png_output',\n",
    "'NILM_IMG003x015.png_output',\n",
    "'NILM_IMG004x023.png_output',\n",
    "'NILM_IMG038x024.png_output',\n",
    "'NILM_IMG038x025.png_output',\n",
    "'NILM_IMG039x004.png_output',\n",
    "'NILM_IMG039x005.png_output',\n",
    "'NILM_IMG039x023.png_output',\n",
    "'NILM_IMG039x024.png_output',\n",
    "'NILM_IMG039x025.png_output']\n",
    "\n",
    "src_dir = '/opt/zhuoyao_workspace/Datasets/private_cervical/origin/TP18JAN-08（NILM）/Images/'\n",
    "dst_dir = '/opt/zhuoyao_workspace/final_medical_cervix_2/datasets/origin_train/origin_10_1_train/'\n",
    "for file in l:\n",
    "    file_name1 = file.split('_')[1].split('.')[0]\n",
    "    filename = file_name1+'.JPG'\n",
    "    src = src_dir + filename\n",
    "    dst = dst_dir + 'NILM_'+ file_name1 + '.png'\n",
    "    #print(dst)\n",
    "    #print(src)\n",
    "    \n",
    "    img = cv2.imread(src)\n",
    "    cv2.imwrite(dst, img)\n",
    "    "
   ]
  },
  {
   "cell_type": "markdown",
   "metadata": {
    "heading_collapsed": true
   },
   "source": [
    "# Original Dataset"
   ]
  },
  {
   "cell_type": "markdown",
   "metadata": {
    "ExecuteTime": {
     "end_time": "2019-01-23T02:24:08.701268Z",
     "start_time": "2019-01-23T02:24:05.809578Z"
    },
    "hidden": true
   },
   "source": [
    "print(os.popen('rm -rf ./classify').read())\n",
    "print(os.popen('cp -rf ./classify_nodenoise_2019 ./classify').read())"
   ]
  },
  {
   "cell_type": "markdown",
   "metadata": {
    "heading_collapsed": true
   },
   "source": [
    "# Denoising"
   ]
  },
  {
   "cell_type": "markdown",
   "metadata": {
    "ExecuteTime": {
     "end_time": "2019-01-21T03:45:04.023842Z",
     "start_time": "2019-01-21T03:39:30.073160Z"
    },
    "hidden": true
   },
   "source": [
    "\n",
    "\n",
    "#origin_dirs = ['/opt/zhuoyao_workspace/github/final_medical_cervix/datasets/origin_train/origin_12_06',\n",
    "             '/opt/zhuoyao_workspace/github/final_medical_cervix/datasets/origin_train/origin_10_1_train']\n",
    "#origin_dirs = ['/opt/zhuoyao_workspace/github/final_medical_cervix/datasets/origin_train/origin_10_1_train']\n",
    "origin_dirs = ['/opt/zhuoyao_workspace/github/final_medical_cervix/datasets/origin_train/origin_01_15']\n",
    "src_dir = './classify_nodenoise_2019'\n",
    "dst_dir = './classify_denoise_2019'\n",
    "\n",
    "\n",
    "for origin_dir in origin_dirs:\n",
    "    print(origin_dir)\n",
    "    files = os.listdir(origin_dir)\n",
    "    print(files)\n",
    "\n",
    "\n",
    "    if not os.path.exists(dst_dir):\n",
    "        os.makedirs(dst_dir)\n",
    "\n",
    "    for file in files:\n",
    "        img_path = os.path.join(origin_dir, file)\n",
    "        img = cv2.imread(img_path)\n",
    "        #denoising\n",
    "        img = cv2.fastNlMeansDenoisingColored(img, None, 6, 6, 7, 21)\n",
    "    \n",
    "        #prepare dir\n",
    "        folder_l1 = os.path.join(dst_dir, file + '_output')\n",
    "        folder1_l2 = os.path.join(folder_l1, 'preview')\n",
    "        folder2_l2 = os.path.join(folder_l1, 'crops')\n",
    "        if not os.path.exists(folder1_l2):\n",
    "            os.makedirs(folder1_l2)\n",
    "        if not os.path.exists(folder2_l2):\n",
    "            os.makedirs(folder2_l2)\n",
    "        preview_path = os.path.join(folder1_l2, 'preview.png')\n",
    "        ind_path = os.path.join(folder1_l2, 'index_file.txt')\n",
    "    \n",
    "        #crop files\n",
    "        co_file = os.path.join(src_dir, file + '_output', 'preview/index_file.txt')\n",
    "        co_df = pd.read_csv(co_file, sep=' ', names=['x1','y1','w1','h1'])\n",
    "        for index, row in co_df.iterrows():\n",
    "            box = row.values\n",
    "            crop(img, index, box, folder2_l2)\n",
    "            \n",
    "        for index, row in co_df.iterrows():\n",
    "            box = row.values\n",
    "            draw_box(img, index, box)\n",
    "    \n",
    "        #save image    \n",
    "        cv2.imwrite(preview_path, img)\n",
    "        #copy index_file\n",
    "        shutil.copy(co_file, ind_path)\n",
    "\n",
    "print(os.popen('rm -rf ./classify').read())\n",
    "print(os.popen('cp -rf {} ./classify'.format(dst_dir)).read())"
   ]
  },
  {
   "cell_type": "markdown",
   "metadata": {
    "heading_collapsed": true
   },
   "source": [
    "# Darken"
   ]
  },
  {
   "cell_type": "markdown",
   "metadata": {
    "hidden": true
   },
   "source": [
    "First choose files to generate dark dataset, then copy the original(nodenoise) to classify and replace the files with dark dataset"
   ]
  },
  {
   "cell_type": "markdown",
   "metadata": {
    "ExecuteTime": {
     "end_time": "2019-01-18T09:04:16.447597Z",
     "start_time": "2019-01-18T09:04:01.810278Z"
    },
    "hidden": true
   },
   "source": [
    "origin_dirs = ['/opt/zhuoyao_workspace/final_medical_cervix_2/datasets/origin_train/origin_10_1_train',\n",
    "              '/opt/zhuoyao_workspace/final_medical_cervix_2/datasets/origin_train/origin_12_06']\n",
    "src_dir = './classify_nodenoise_2018'\n",
    "dst_dir = './classify_darken_2018'\n",
    "darken_ratio = 0.7\n",
    "select_percent = 0.3\n",
    "\n",
    "\n",
    "print(os.popen('rm -rf ./classify_darken_2018').read())\n",
    "\n",
    "np.random.seed(10)\n",
    "for origin_dir in origin_dirs:\n",
    "    print(origin_dir)\n",
    "    files = os.listdir(origin_dir)\n",
    "    files = np.random.choice(files, int(len(files)*select_percent), replace=False)\n",
    "    print(files)\n",
    "\n",
    "\n",
    "    if not os.path.exists(dst_dir):\n",
    "        os.makedirs(dst_dir)\n",
    "\n",
    "    for file in files:\n",
    "        img_path = os.path.join(origin_dir, file)\n",
    "        img = cv2.imread(img_path)\n",
    "        img = (img * darken_ratio).astype(np.uint8)\n",
    "    \n",
    "        #prepare dir\n",
    "        folder_l1 = os.path.join(dst_dir, file + '_output')\n",
    "        folder1_l2 = os.path.join(folder_l1, 'preview')\n",
    "        folder2_l2 = os.path.join(folder_l1, 'crops')\n",
    "        if not os.path.exists(folder1_l2):\n",
    "            os.makedirs(folder1_l2)\n",
    "        if not os.path.exists(folder2_l2):\n",
    "            os.makedirs(folder2_l2)\n",
    "        preview_path = os.path.join(folder1_l2, 'preview.png')\n",
    "        ind_path = os.path.join(folder1_l2, 'index_file.txt')\n",
    "    \n",
    "        #crop files\n",
    "        co_file = os.path.join(src_dir, file + '_output', 'preview/index_file.txt')\n",
    "        co_df = pd.read_csv(co_file, sep=' ', names=['x1','y1','w1','h1'])\n",
    "        for index, row in co_df.iterrows():\n",
    "            box = row.values\n",
    "            crop(img, index, box, folder2_l2)\n",
    "            draw_box(img, index, box)\n",
    "    \n",
    "        #save image    \n",
    "        cv2.imwrite(preview_path, img)\n",
    "        #copy index_file\n",
    "        shutil.copy(co_file, ind_path)\n",
    "        \n",
    "print(os.popen('rm -rf ./classify').read())\n",
    "print(os.popen('cp -rf {} ./classify'.format(src_dir)).read())\n",
    "print(os.popen('cp -rf {}/* ./classify'.format(dst_dir)).read())"
   ]
  },
  {
   "cell_type": "markdown",
   "metadata": {},
   "source": [
    "# Recropping"
   ]
  },
  {
   "cell_type": "code",
   "execution_count": 5,
   "metadata": {
    "ExecuteTime": {
     "end_time": "2019-03-06T01:35:49.794769Z",
     "start_time": "2019-03-06T01:35:49.786842Z"
    }
   },
   "outputs": [],
   "source": [
    "def resize_box(df):\n",
    "    def square_x(serie):\n",
    "        x = serie['x1'] + int(serie['w1']/2) - int(square_edges/2)\n",
    "        return max(x, 0)\n",
    "    def square_y(serie):\n",
    "        y = serie['y1'] + int(serie['h1']/2) - int(square_edges/2)\n",
    "        return max(y, 0)\n",
    "        \n",
    "    if len(co_df)!=0:    \n",
    "        df['x1'] = df.apply(square_x, axis=1)\n",
    "        df['y1'] = df.apply(square_y, axis=1)\n",
    "        df['w1'] = square_edges\n",
    "        df['h1'] = square_edges\n",
    "    return df"
   ]
  },
  {
   "cell_type": "code",
   "execution_count": 6,
   "metadata": {
    "ExecuteTime": {
     "end_time": "2019-03-06T01:37:11.997093Z",
     "start_time": "2019-03-06T01:35:49.796604Z"
    },
    "code_folding": []
   },
   "outputs": [
    {
     "name": "stdout",
     "output_type": "stream",
     "text": [
      "/opt/zhuoyao_workspace/github/final_medical_cervix/datasets/origin_train/origin_01_15\n",
      "['HSIL_IMG042x013.png', 'HSIL_IMG042x007.png', 'HSIL_IMG039x010.png', 'HSIL_IMG039x011.png', 'HSIL_IMG042x006.png', 'HSIL_IMG042x012.png', 'HSIL_IMG042x004.png', 'HSIL_IMG042x010.png', 'HSIL_IMG039x013.png', 'HSIL_IMG039x012.png', 'HSIL_IMG042x011.png', 'HSIL_IMG042x005.png', 'HSIL_IMG042x001.png', 'HSIL_IMG042x015.png', 'HSIL_IMG039x016.png', 'HSIL_IMG039x017.png', 'HSIL_IMG042x014.png', 'HSIL_IMG042x002.png', 'HSIL_IMG039x015.png', 'HSIL_IMG039x014.png', 'HSIL_IMG042x003.png', 'HSIL_IMG042x017.png', 'HSIL_IMG040x015.png', 'HSIL_IMG040x001.png', 'HSIL_IMG041x004.png', 'HSIL_IMG041x010.png', 'HSIL_IMG041x011.png', 'HSIL_IMG041x005.png', 'HSIL_IMG040x014.png', 'HSIL_IMG040x002.png', 'HSIL_IMG040x016.png', 'HSIL_IMG041x013.png', 'HSIL_IMG041x007.png', 'HSIL_IMG041x006.png', 'HSIL_IMG041x012.png', 'HSIL_IMG040x017.png', 'HSIL_IMG040x003.png', 'HSIL_IMG040x007.png', 'HSIL_IMG041x016.png', 'HSIL_IMG041x002.png', 'HSIL_IMG041x003.png', 'HSIL_IMG041x017.png', 'HSIL_IMG040x012.png', 'HSIL_IMG040x006.png', 'HSIL_IMG040x010.png', 'HSIL_IMG040x004.png', 'HSIL_IMG041x001.png', 'HSIL_IMG041x015.png', 'HSIL_IMG041x014.png', 'HSIL_IMG040x011.png', 'HSIL_IMG040x008.png', 'HSIL_IMG040x020.png', 'HSIL_IMG041x019.png', 'HSIL_IMG041x025.png', 'HSIL_IMG041x024.png', 'HSIL_IMG041x018.png', 'HSIL_IMG040x021.png', 'HSIL_IMG040x009.png', 'HSIL_IMG040x023.png', 'HSIL_IMG041x026.png', 'HSIL_IMG041x027.png', 'HSIL_IMG040x022.png', 'HSIL_IMG040x026.png', 'HSIL_IMG041x023.png', 'HSIL_IMG041x022.png', 'HSIL_IMG040x027.png', 'HSIL_IMG040x025.png', 'HSIL_IMG040x019.png', 'HSIL_IMG041x020.png', 'HSIL_IMG041x008.png', 'HSIL_IMG041x009.png', 'HSIL_IMG041x021.png', 'HSIL_IMG040x018.png', 'HSIL_IMG040x024.png', 'HSIL_IMG042x026.png', 'HSIL_IMG039x019.png', 'HSIL_IMG039x018.png', 'HSIL_IMG039x024.png', 'HSIL_IMG042x027.png', 'HSIL_IMG042x019.png', 'HSIL_IMG042x025.png', 'HSIL_IMG039x026.png', 'HSIL_IMG039x027.png', 'HSIL_IMG042x024.png', 'HSIL_IMG042x018.png', 'HSIL_IMG042x020.png', 'HSIL_IMG042x008.png', 'HSIL_IMG039x023.png', 'HSIL_IMG039x022.png', 'HSIL_IMG042x009.png', 'HSIL_IMG042x021.png', 'HSIL_IMG042x023.png', 'HSIL_IMG039x020.png', 'HSIL_IMG039x021.png', 'HSIL_IMG039x009.png', 'HSIL_IMG042x022.png', 'HSIL_IMG042x016.png', 'HSIL_IMG040x013.png', 'HSIL_IMG040x005.png', 'HSIL_IMG039x025.png', 'LSIL_IMG052x007.png', 'LSIL_IMG052x013.png', 'LSIL_IMG052x012.png', 'LSIL_IMG052x010.png', 'LSIL_IMG052x004.png', 'LSIL_IMG052x005.png', 'LSIL_IMG052x015.png', 'LSIL_IMG052x001.png', 'LSIL_IMG052x002.png', 'LSIL_IMG052x017.png', 'LSIL_IMG052x003.png', 'LSIL_IMG050x015.png', 'LSIL_IMG051x010.png', 'LSIL_IMG051x005.png', 'LSIL_IMG051x011.png', 'LSIL_IMG050x014.png', 'LSIL_IMG050x028.png', 'LSIL_IMG050x016.png', 'LSIL_IMG050x002.png', 'LSIL_IMG051x013.png', 'LSIL_IMG051x006.png', 'LSIL_IMG050x003.png', 'LSIL_IMG050x017.png', 'LSIL_IMG050x013.png', 'LSIL_IMG051x002.png', 'LSIL_IMG051x016.png', 'LSIL_IMG051x017.png', 'LSIL_IMG051x003.png', 'LSIL_IMG050x006.png', 'LSIL_IMG050x012.png', 'LSIL_IMG050x004.png', 'LSIL_IMG051x001.png', 'LSIL_IMG051x029.png', 'LSIL_IMG051x028.png', 'LSIL_IMG051x014.png', 'LSIL_IMG050x005.png', 'LSIL_IMG050x008.png', 'LSIL_IMG051x019.png', 'LSIL_IMG051x031.png', 'LSIL_IMG051x025.png', 'LSIL_IMG051x024.png', 'LSIL_IMG051x030.png', 'LSIL_IMG051x018.png', 'LSIL_IMG050x021.png', 'LSIL_IMG050x009.png', 'LSIL_IMG051x026.png', 'LSIL_IMG051x032.png', 'LSIL_IMG051x033.png', 'LSIL_IMG051x027.png', 'LSIL_IMG050x032.png', 'LSIL_IMG051x022.png', 'LSIL_IMG050x033.png', 'LSIL_IMG050x019.png', 'LSIL_IMG051x020.png', 'LSIL_IMG049x033.png', 'LSIL_IMG051x021.png', 'LSIL_IMG050x018.png', 'LSIL_IMG050x024.png', 'LSIL_IMG052x026.png', 'LSIL_IMG052x033.png', 'LSIL_IMG052x027.png', 'LSIL_IMG052x019.png', 'LSIL_IMG052x031.png', 'LSIL_IMG052x025.png', 'LSIL_IMG052x030.png', 'LSIL_IMG052x018.png', 'LSIL_IMG052x020.png', 'LSIL_IMG052x009.png', 'LSIL_IMG052x021.png', 'LSIL_IMG052x022.png', 'LSIL_HPV_IMG042x013.png', 'LSIL_HPV_IMG042x007.png', 'LSIL_HPV_IMG039x010.png', 'LSIL_HPV_IMG039x011.png', 'LSIL_HPV_IMG042x006.png', 'LSIL_HPV_IMG042x012.png', 'LSIL_HPV_IMG042x004.png', 'LSIL_HPV_IMG042x010.png', 'LSIL_HPV_IMG039x013.png', 'LSIL_HPV_IMG039x012.png', 'LSIL_HPV_IMG042x011.png', 'LSIL_HPV_IMG042x005.png', 'LSIL_HPV_IMG042x001.png', 'LSIL_HPV_IMG042x015.png', 'LSIL_HPV_IMG039x016.png', 'LSIL_HPV_IMG039x017.png', 'LSIL_HPV_IMG042x014.png', 'LSIL_HPV_IMG042x016.png', 'LSIL_HPV_IMG042x002.png', 'LSIL_HPV_IMG039x015.png', 'LSIL_HPV_IMG039x014.png', 'LSIL_HPV_IMG042x003.png', 'LSIL_HPV_IMG042x017.png', 'LSIL_HPV_IMG040x015.png', 'LSIL_HPV_IMG040x001.png', 'LSIL_HPV_IMG041x004.png', 'LSIL_HPV_IMG041x010.png', 'LSIL_HPV_IMG041x005.png', 'LSIL_HPV_IMG040x014.png', 'LSIL_HPV_IMG040x002.png', 'LSIL_HPV_IMG040x016.png', 'LSIL_HPV_IMG041x013.png', 'LSIL_HPV_IMG041x007.png', 'LSIL_HPV_IMG041x006.png', 'LSIL_HPV_IMG041x012.png', 'LSIL_HPV_IMG040x017.png', 'LSIL_HPV_IMG040x003.png', 'LSIL_HPV_IMG040x007.png', 'LSIL_HPV_IMG040x013.png', 'LSIL_HPV_IMG041x016.png', 'LSIL_HPV_IMG041x002.png', 'LSIL_HPV_IMG041x003.png', 'LSIL_HPV_IMG040x012.png', 'LSIL_HPV_IMG040x006.png', 'LSIL_HPV_IMG040x010.png', 'LSIL_HPV_IMG040x004.png', 'LSIL_HPV_IMG041x014.png', 'LSIL_HPV_IMG040x005.png', 'LSIL_HPV_IMG040x011.png', 'LSIL_HPV_IMG040x008.png', 'LSIL_HPV_IMG040x020.png', 'LSIL_HPV_IMG041x019.png', 'LSIL_HPV_IMG041x025.png', 'LSIL_HPV_IMG041x024.png', 'LSIL_HPV_IMG041x018.png', 'LSIL_HPV_IMG040x009.png', 'LSIL_HPV_IMG040x023.png', 'LSIL_HPV_IMG041x026.png', 'LSIL_HPV_IMG041x027.png', 'LSIL_HPV_IMG040x022.png', 'LSIL_HPV_IMG040x026.png', 'LSIL_HPV_IMG041x023.png', 'LSIL_HPV_IMG041x022.png', 'LSIL_HPV_IMG040x027.png', 'SCC_IMG042x013.png', 'LSIL_HPV_IMG040x025.png', 'LSIL_HPV_IMG041x020.png', 'LSIL_HPV_IMG041x008.png', 'LSIL_HPV_IMG041x009.png', 'LSIL_HPV_IMG041x021.png', 'LSIL_HPV_IMG040x018.png', 'LSIL_HPV_IMG040x024.png', 'LSIL_HPV_IMG042x026.png', 'LSIL_HPV_IMG039x025.png', 'LSIL_HPV_IMG039x019.png', 'LSIL_HPV_IMG039x018.png', 'LSIL_HPV_IMG039x024.png', 'LSIL_HPV_IMG042x027.png', 'LSIL_HPV_IMG042x019.png', 'LSIL_HPV_IMG042x025.png', 'LSIL_HPV_IMG039x026.png', 'LSIL_HPV_IMG039x027.png', 'LSIL_HPV_IMG042x024.png', 'LSIL_HPV_IMG042x018.png', 'LSIL_HPV_IMG042x020.png', 'LSIL_HPV_IMG042x008.png', 'LSIL_HPV_IMG039x023.png', 'LSIL_HPV_IMG039x022.png', 'LSIL_HPV_IMG042x009.png', 'LSIL_HPV_IMG042x021.png', 'LSIL_HPV_IMG042x023.png', 'LSIL_HPV_IMG039x020.png', 'LSIL_HPV_IMG039x021.png', 'LSIL_HPV_IMG039x009.png', 'LSIL_HPV_IMG042x022.png', 'SCC_IMG043x002.png', 'SCC_IMG043x016.png', 'SCC_IMG043x017.png', 'SCC_IMG043x003.png', 'SCC_IMG042x006.png', 'SCC_IMG042x012.png', 'SCC_IMG042x004.png', 'SCC_IMG042x010.png', 'SCC_IMG043x001.png', 'SCC_IMG043x028.png', 'SCC_IMG042x011.png', 'SCC_IMG042x005.png', 'SCC_IMG042x001.png', 'SCC_IMG042x015.png', 'SCC_IMG043x010.png', 'SCC_IMG043x004.png', 'SCC_IMG043x005.png', 'SCC_IMG043x011.png', 'SCC_IMG042x028.png', 'SCC_IMG042x014.png', 'SCC_IMG042x016.png', 'SCC_IMG042x002.png', 'SCC_IMG043x007.png', 'SCC_IMG043x013.png', 'SCC_IMG043x012.png', 'SCC_IMG043x006.png', 'SCC_IMG042x003.png', 'SCC_IMG042x017.png', 'SCC_IMG044x009.png', 'SCC_IMG044x021.png', 'SCC_IMG044x020.png', 'SCC_IMG044x008.png', 'SCC_IMG041x013.png', 'SCC_IMG044x022.png', 'SCC_IMG044x023.png', 'SCC_IMG044x027.png', 'SCC_IMG044x026.png', 'SCC_IMG041x017.png', 'SCC_IMG044x018.png', 'SCC_IMG044x019.png', 'SCC_IMG044x025.png', 'SCC_IMG041x014.png', 'SCC_IMG041x025.png', 'SCC_IMG044x014.png', 'SCC_IMG044x015.png', 'SCC_IMG041x024.png', 'SCC_IMG041x018.png', 'SCC_IMG041x026.png', 'SCC_IMG044x003.png', 'SCC_IMG044x002.png', 'SCC_IMG044x016.png', 'SCC_IMG041x027.png', 'SCC_IMG044x012.png', 'SCC_IMG044x006.png', 'SCC_IMG044x007.png', 'SCC_IMG044x013.png', 'SCC_IMG041x022.png', 'SCC_IMG041x020.png', 'SCC_IMG044x005.png', 'SCC_IMG044x011.png', 'SCC_IMG044x004.png', 'SCC_IMG041x021.png', 'SCC_IMG042x026.png', 'SCC_IMG043x023.png', 'SCC_IMG043x022.png', 'SCC_IMG042x019.png', 'SCC_IMG042x025.png', 'SCC_IMG043x008.png', 'SCC_IMG043x020.png', 'SCC_IMG043x021.png', 'SCC_IMG043x009.png', 'SCC_IMG042x024.png', 'SCC_IMG042x018.png', 'SCC_IMG042x020.png', 'SCC_IMG042x008.png', 'SCC_IMG043x025.png', 'SCC_IMG043x024.png', 'SCC_IMG042x009.png', 'SCC_IMG042x023.png', 'SCC_IMG043x026.png', 'SCC_IMG043x027.png', 'SCC_IMG042x022.png', 'SCC_IMG041x015.png', 'SCC_IMG041x016.png', 'SCC_IMG041x019.png', 'SCC_IMG041x023.png', 'SCC_IMG041x028.png', 'SCC_IMG042x007.png', 'SCC_IMG042x021.png', 'SCC_IMG042x027.png', 'SCC_IMG043x014.png', 'SCC_IMG043x015.png', 'SCC_IMG043x018.png', 'SCC_IMG043x019.png', 'SCC_IMG044x001.png', 'SCC_IMG044x010.png', 'SCC_IMG044x017.png', 'SCC_IMG044x024.png', 'SCC_IMG044x028.png', 'LSIL_HPV_IMG040x019.png', 'LSIL_HPV_IMG040x021.png', 'LSIL_HPV_IMG041x001.png', 'LSIL_HPV_IMG041x011.png', 'LSIL_HPV_IMG041x017.png', 'LSIL_HPV_IMG041x015.png', 'LSIL_IMG050x001.png', 'LSIL_IMG050x007.png', 'LSIL_IMG050x010.png', 'LSIL_IMG050x011.png', 'LSIL_IMG050x020.png', 'LSIL_IMG050x022.png', 'LSIL_IMG050x023.png', 'LSIL_IMG050x025.png', 'LSIL_IMG050x026.png', 'LSIL_IMG050x027.png', 'LSIL_IMG050x029.png', 'LSIL_IMG050x030.png', 'LSIL_IMG050x031.png', 'LSIL_IMG051x004.png', 'LSIL_IMG051x007.png', 'LSIL_IMG051x008.png', 'LSIL_IMG051x009.png', 'LSIL_IMG051x012.png', 'LSIL_IMG051x015.png', 'LSIL_IMG051x023.png', 'LSIL_IMG052x006.png', 'LSIL_IMG052x008.png', 'LSIL_IMG052x011.png', 'LSIL_IMG052x014.png', 'LSIL_IMG052x016.png', 'LSIL_IMG052x023.png', 'LSIL_IMG052x024.png', 'LSIL_IMG052x028.png', 'LSIL_IMG052x029.png', 'LSIL_IMG052x032.png']\n"
     ]
    }
   ],
   "source": [
    "#origin_dirs = ['/opt/zhuoyao_workspace/github/final_medical_cervix/datasets/origin_train/origin_10_1_train',\n",
    "#              '/opt/zhuoyao_workspace/github/final_medical_cervix/datasets/origin_train/origin_12_06']\n",
    "#src_dir = './classify_nodenoise_2018'\n",
    "#dst_dir = './classify_recrop_2018'\n",
    "origin_dirs = ['/opt/zhuoyao_workspace/github/final_medical_cervix/datasets/origin_train/origin_01_15']\n",
    "src_dir = './classify_nodenoise_2019'\n",
    "dst_dir = './classify_recrop_2019'\n",
    "square_edges = 75\n",
    "\n",
    "\n",
    "for origin_dir in origin_dirs:\n",
    "    print(origin_dir)\n",
    "    files = os.listdir(origin_dir)\n",
    "    print(files)\n",
    "\n",
    "\n",
    "    if not os.path.exists(dst_dir):\n",
    "        os.makedirs(dst_dir)\n",
    "\n",
    "    for file in files:\n",
    "        img_path = os.path.join(origin_dir, file)\n",
    "        img = cv2.imread(img_path)\n",
    "    \n",
    "        #prepare dir\n",
    "        folder_l1 = os.path.join(dst_dir, file + '_output')\n",
    "        folder1_l2 = os.path.join(folder_l1, 'preview')\n",
    "        folder2_l2 = os.path.join(folder_l1, 'crops')\n",
    "        if not os.path.exists(folder1_l2):\n",
    "            os.makedirs(folder1_l2)\n",
    "        if not os.path.exists(folder2_l2):\n",
    "            os.makedirs(folder2_l2)\n",
    "        preview_path = os.path.join(folder1_l2, 'preview.png')\n",
    "        ind_path = os.path.join(folder1_l2, 'index_file.txt')\n",
    "        \n",
    "        #crop files\n",
    "        co_file = os.path.join(src_dir, file + '_output', 'preview/index_file.txt')\n",
    "        co_df = pd.read_csv(co_file, sep=' ', names=['x1','y1','w1','h1'])\n",
    "        \n",
    "        #original crops\n",
    "        origin_crops_path = os.path.join(src_dir, file + '_output', 'crops') \n",
    "        #print(origin_crops_path)\n",
    "        origin_crops = os.listdir(origin_crops_path)\n",
    "        #print(origin_crops)\n",
    "        if len(origin_crops) != len(co_df):\n",
    "            print(\"File:{}, len_df: {}, num_origin_crops: {}\".format(file, \n",
    "                                                                   len(co_df),\n",
    "                                                                   len(origin_crops)))\n",
    "            #print(co_df.index)\n",
    "            for crops in origin_crops:\n",
    "                if int(crops.split('.')[0]) not in co_df.index:\n",
    "                    src = os.path.join(origin_crops_path, crops)\n",
    "                    dst = os.path.join(*origin_crops_path.split('/')[:-1])\n",
    "                    #print(dst)\n",
    "                    shutil.move(src, dst)\n",
    "                    #print(co_df.index)\n",
    "                                                            \n",
    "        co_df = resize_box(co_df)\n",
    "\n",
    "        \n",
    "        for index, row in co_df.iterrows():\n",
    "            box = row.values\n",
    "            crop(img, index, box, folder2_l2)\n",
    "            \n",
    "        for index, row in co_df.iterrows():\n",
    "            box = row.values\n",
    "            draw_box(img, index, box)\n",
    "    \n",
    "        #save image    \n",
    "        cv2.imwrite(preview_path, img)\n",
    "        #copy index_file\n",
    "        co_df.to_csv(ind_path, sep=' ', header=False)"
   ]
  },
  {
   "cell_type": "markdown",
   "metadata": {},
   "source": [
    "# Generate Train & Test"
   ]
  },
  {
   "cell_type": "code",
   "execution_count": 7,
   "metadata": {
    "ExecuteTime": {
     "end_time": "2019-03-06T01:37:12.211393Z",
     "start_time": "2019-03-06T01:37:12.000173Z"
    }
   },
   "outputs": [],
   "source": [
    "from sklearn.model_selection import train_test_split"
   ]
  },
  {
   "cell_type": "code",
   "execution_count": 8,
   "metadata": {
    "ExecuteTime": {
     "end_time": "2019-03-06T01:37:12.219319Z",
     "start_time": "2019-03-06T01:37:12.213451Z"
    }
   },
   "outputs": [],
   "source": [
    "def copy_data_by_type(df,dst_dir):\n",
    "    if not os.path.exists(dst_dir):\n",
    "        os.mkdir(dst_dir)\n",
    "    \n",
    "    CLASS = ['Norm', 'LSIL', 'HSIL', 'HPV', 'SCC']\n",
    "    gt = [0, 1, 2, 3, 5]\n",
    "\n",
    "    for i, t in enumerate(gt):\n",
    "        try:\n",
    "            tmp_df = df.loc[df['gt']==t]\n",
    "        except:\n",
    "            tmp_df = df.loc[df['positive']==t]\n",
    "        path = os.path.join(dst_dir, CLASS[i])\n",
    "        if not os.path.exists(path):\n",
    "            os.mkdir(path)\n",
    "        for _, row in tmp_df.iterrows():\n",
    "            src_path = row['name']\n",
    "            names = src_path.split('/')[-3] + '_' + src_path.split('/')[-1]\n",
    "            dst_path = os.path.join(path,names)\n",
    "            shutil.copy(src_path, dst_path)"
   ]
  },
  {
   "cell_type": "code",
   "execution_count": 9,
   "metadata": {
    "ExecuteTime": {
     "end_time": "2019-03-06T01:37:14.312429Z",
     "start_time": "2019-03-06T01:37:12.220826Z"
    }
   },
   "outputs": [],
   "source": [
    "orgin_name = 'classify_nodenoise_2019'\n",
    "dst_name = 'classify_recrop_2019'\n",
    "\n",
    "if '2018' in orgin_name:\n",
    "    df = pd.read_csv('./train_labels_nodenoise_2018.csv')\n",
    "elif '2019' in orgin_name:\n",
    "    df = pd.read_csv('./train_labels_nodenoise_2019.csv')\n",
    "else:\n",
    "    print(\"Not supported dataset.\")\n",
    "\n",
    "df['name'] = df.apply(lambda x: x['name'].replace(orgin_name, dst_name), axis=1)\n",
    "df['name'] = df.apply(lambda x: '../' + x['name'], axis=1)\n",
    "\n",
    "try: \n",
    "    y = df['gt']\n",
    "except:\n",
    "    y = df['positive']\n",
    "\n",
    "train_set, test_set, _, _ =  train_test_split(df, y, test_size=0.2, \n",
    "                                              shuffle=True, stratify=y, random_state=10)\n",
    "\n",
    "copy_data_by_type(train_set, './train_datasets')\n",
    "copy_data_by_type(test_set, './test_datasets')"
   ]
  },
  {
   "cell_type": "code",
   "execution_count": null,
   "metadata": {},
   "outputs": [],
   "source": []
  }
 ],
 "metadata": {
  "kernelspec": {
   "display_name": "Python 3",
   "language": "python",
   "name": "python3"
  },
  "language_info": {
   "codemirror_mode": {
    "name": "ipython",
    "version": 3
   },
   "file_extension": ".py",
   "mimetype": "text/x-python",
   "name": "python",
   "nbconvert_exporter": "python",
   "pygments_lexer": "ipython3",
   "version": "3.6.7"
  },
  "toc": {
   "base_numbering": 1,
   "nav_menu": {},
   "number_sections": true,
   "sideBar": true,
   "skip_h1_title": false,
   "title_cell": "Table of Contents",
   "title_sidebar": "Contents",
   "toc_cell": false,
   "toc_position": {},
   "toc_section_display": true,
   "toc_window_display": false
  },
  "varInspector": {
   "cols": {
    "lenName": 16,
    "lenType": 16,
    "lenVar": 40
   },
   "kernels_config": {
    "python": {
     "delete_cmd_postfix": "",
     "delete_cmd_prefix": "del ",
     "library": "var_list.py",
     "varRefreshCmd": "print(var_dic_list())"
    },
    "r": {
     "delete_cmd_postfix": ") ",
     "delete_cmd_prefix": "rm(",
     "library": "var_list.r",
     "varRefreshCmd": "cat(var_dic_list()) "
    }
   },
   "types_to_exclude": [
    "module",
    "function",
    "builtin_function_or_method",
    "instance",
    "_Feature"
   ],
   "window_display": false
  }
 },
 "nbformat": 4,
 "nbformat_minor": 2
}
