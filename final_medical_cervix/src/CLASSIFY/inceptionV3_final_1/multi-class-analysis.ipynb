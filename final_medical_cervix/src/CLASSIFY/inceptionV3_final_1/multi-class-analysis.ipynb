{
 "cells": [
  {
   "cell_type": "code",
   "execution_count": 11,
   "metadata": {},
   "outputs": [
    {
     "data": {
      "text/plain": [
       "\"\\nREADME: \\n\\nBefore running:\\n\\n1) Edit variable:\\nAUG_MODE = ['Up_All', 'Minority', 'RandomRotate',  'Majority_Down', RandomRotate]\\nbased on your augmentation method.\\n\\n2) Save and start running to avoid any err/exception\\n\""
      ]
     },
     "execution_count": 11,
     "metadata": {},
     "output_type": "execute_result"
    }
   ],
   "source": [
    "\"\"\"\n",
    "README: \n",
    "\n",
    "Before running:\n",
    "\n",
    "1) Edit variable:\n",
    "AUG_MODE = ['Up_All', 'Minority', 'RandomRotate',  'Majority_Down', RandomRotate]\n",
    "based on your augmentation method.\n",
    "\n",
    "2) Save and start running to avoid any err/exception\n",
    "\"\"\""
   ]
  },
  {
   "cell_type": "code",
   "execution_count": 12,
   "metadata": {
    "ExecuteTime": {
     "end_time": "2019-02-23T03:08:56.548261Z",
     "start_time": "2019-02-23T03:08:55.559489Z"
    }
   },
   "outputs": [],
   "source": [
    "import pandas as pd\n",
    "import numpy as np\n",
    "import matplotlib.pyplot as plt\n",
    "import cv2\n",
    "\n",
    "from sklearn.metrics import accuracy_score,recall_score,precision_score,f1_score,roc_auc_score,confusion_matrix\n",
    "from itertools import product"
   ]
  },
  {
   "cell_type": "code",
   "execution_count": 13,
   "metadata": {
    "ExecuteTime": {
     "end_time": "2019-02-23T03:08:56.737927Z",
     "start_time": "2019-02-23T03:08:56.734119Z"
    }
   },
   "outputs": [],
   "source": [
    "import os \n",
    "#os.listdir(os.getcwd())\n",
    "\n",
    "RES_DIR = './train_analysis/'"
   ]
  },
  {
   "cell_type": "markdown",
   "metadata": {},
   "source": [
    "# MultiClass Result analysis"
   ]
  },
  {
   "cell_type": "code",
   "execution_count": 14,
   "metadata": {
    "ExecuteTime": {
     "end_time": "2019-02-23T03:10:10.250153Z",
     "start_time": "2019-02-23T03:10:07.139168Z"
    }
   },
   "outputs": [
    {
     "data": {
      "text/html": [
       "<script type=\"text/javascript\">window.PlotlyConfig = {MathJaxConfig: 'local'};</script><script type=\"text/javascript\">if (window.MathJax) {MathJax.Hub.Config({SVG: {font: \"STIX-Web\"}});}</script><script>requirejs.config({paths: { 'plotly': ['https://cdn.plot.ly/plotly-latest.min']},});if(!window._Plotly) {require(['plotly'],function(plotly) {window._Plotly=plotly;});}</script>"
      ],
      "text/vnd.plotly.v1+html": [
       "<script type=\"text/javascript\">window.PlotlyConfig = {MathJaxConfig: 'local'};</script><script type=\"text/javascript\">if (window.MathJax) {MathJax.Hub.Config({SVG: {font: \"STIX-Web\"}});}</script><script>requirejs.config({paths: { 'plotly': ['https://cdn.plot.ly/plotly-latest.min']},});if(!window._Plotly) {require(['plotly'],function(plotly) {window._Plotly=plotly;});}</script>"
      ]
     },
     "metadata": {},
     "output_type": "display_data"
    }
   ],
   "source": [
    "import plotly.offline as py\n",
    "import plotly.graph_objs as go\n",
    "from plotly import tools\n",
    "\n",
    "py.init_notebook_mode(connected=True)\n",
    "from itertools import product"
   ]
  },
  {
   "cell_type": "code",
   "execution_count": 15,
   "metadata": {
    "ExecuteTime": {
     "end_time": "2019-02-23T03:10:04.712090Z",
     "start_time": "2019-02-23T03:10:04.709697Z"
    }
   },
   "outputs": [],
   "source": [
    "CLASS = ['Norm', 'LSIL', 'HSIL', 'LSIL_HPV', 'SCC']"
   ]
  },
  {
   "cell_type": "code",
   "execution_count": 16,
   "metadata": {
    "ExecuteTime": {
     "end_time": "2019-02-27T12:14:05.046549Z",
     "start_time": "2019-02-27T12:14:05.015100Z"
    }
   },
   "outputs": [],
   "source": [
    "def visual_cmatrix(c_matrix, clazz=CLASS):\n",
    "    trace = go.Heatmap(z=c_matrix,\n",
    "                       x=clazz,\n",
    "                       y=clazz\n",
    "                       )\n",
    "\n",
    "    layout = {'annotations':\n",
    "              [\n",
    "                {\n",
    "                    \"x\": t[0],\n",
    "                    \"y\": t[1],\n",
    "                    \"font\": {\"color\":\"white\"},\n",
    "                    \"showarrow\": False,\n",
    "                    \"text\": str(c_matrix.T.flatten()[n]),\n",
    "                    \"xref\": \"x1\",\n",
    "                    \"yref\": \"y1\"\n",
    "                } \n",
    "               for n, t in enumerate(product(clazz, clazz))\n",
    "              ],\n",
    "              'title': \"Confusion Matrix\",\n",
    "              'xaxis': {\"title\": \"Predicted Value\"},\n",
    "              'yaxis': {\"title\": \"Real Value\"}\n",
    "             }\n",
    "\n",
    "    data = [trace]\n",
    "    fig = go.Figure(data=data, layout=layout)\n",
    "    py.iplot(fig)"
   ]
  },
  {
   "cell_type": "code",
   "execution_count": 17,
   "metadata": {
    "ExecuteTime": {
     "end_time": "2019-02-13T06:12:42.648706Z",
     "start_time": "2019-02-13T06:12:42.627446Z"
    }
   },
   "outputs": [],
   "source": [
    "#for i in [1,2,3,4]:\n",
    "#    print(\"Class {}: Accuracy: {}\".format(CLASS[i], accuracy_score(gt_cat == i,preds_cat == i)))\n",
    "#    print(\"Class {}: Precision: {}\".format(CLASS[i], precision_score(gt_cat == i,preds_cat == i)))\n",
    "#    print(\"Class {}: Recall: {}\".format(CLASS[i], recall_score(gt_cat == i,preds_cat == i)))"
   ]
  },
  {
   "cell_type": "code",
   "execution_count": 18,
   "metadata": {
    "ExecuteTime": {
     "end_time": "2019-01-29T05:15:48.266400Z",
     "start_time": "2019-01-29T05:15:48.262116Z"
    }
   },
   "outputs": [],
   "source": [
    "#print(c_matrix)"
   ]
  },
  {
   "cell_type": "code",
   "execution_count": 19,
   "metadata": {
    "ExecuteTime": {
     "end_time": "2019-02-03T01:35:43.408505Z",
     "start_time": "2019-02-03T01:35:43.386918Z"
    }
   },
   "outputs": [],
   "source": [
    "#df = pd.read_csv(RES_DIR + DATASETS['TestSet'].format(MODELS[1]))"
   ]
  },
  {
   "cell_type": "code",
   "execution_count": 22,
   "metadata": {
    "ExecuteTime": {
     "end_time": "2019-03-04T02:45:06.086432Z",
     "start_time": "2019-03-04T02:45:04.815248Z"
    }
   },
   "outputs": [
    {
     "name": "stdout",
     "output_type": "stream",
     "text": [
      "['Warp_Up_All_CellBased_0.5_MultiClass_RGB_NormalLoss']\n"
     ]
    }
   ],
   "source": [
    "PADDING = \"Warp\" #{Double_ZoomOut_Padding, Padding, Warp}\n",
    "FOLD_MODE = \"CellBased\" #{CellBased, FovBased}\n",
    "DROPOUT = 0.5\n",
    "CLF_MODE = \"MultiClass\" #{MultiClass, Binary}\n",
    "#COLOR_MODE = \"RGB\"\n",
    "COLOR_MODE = 'RGB'\n",
    "#COLOR_MODE = ['HSV_CLAHE_V', 'HSV_CLAHE_S', 'HSV_CLAHE_SV', 'LAB_CLAHE_L', 'RGB',\"HIST_BATCH_EQ\"] \n",
    "#{HSV_CLAHE_V, HSV_CLAHE_S, HSV_CLAHE_SV, LAB_CLAHE_L, RGB}\n",
    "AUG_MODE = ['Up_All']\n",
    "#AUG_MODE = ['Minority', 'RandomRotate',  'Majority_Down']\n",
    "#AUG_MODE = 'RandomRotate'\n",
    "\n",
    "NomalLoss_MODELS = ['{}_{}_{}_{}_{}_{}_NormalLoss'.format(PADDING, aug_mode, FOLD_MODE, DROPOUT, CLF_MODE, COLOR_MODE) \n",
    "             for aug_mode in AUG_MODE]\n",
    "WeightedLoss_MODELS = ['{}_{}_{}_{}_{}_{}_WeightedLoss'.format(PADDING, aug_mode, FOLD_MODE, DROPOUT, CLF_MODE, COLOR_MODE) \n",
    "              for aug_mode in AUG_MODE]\n",
    "\n",
    "MODELS = NomalLoss_MODELS + WeightedLoss_MODELS\n",
    "#MODELS = NomalLoss_MODELS\n",
    "print(MODELS)\n",
    "#MODELS = ['{}_{}_{}_{}_{}_{}'.format(PADDING, AUG_MODE, FOLD_MODE, DROPOUT, CLF_MODE, color_mode) \n",
    "#             for color_mode in COLOR_MODE]\n",
    "\n",
    "DATASETS = {'TrainSet':\"train_result_{}.csv\",\n",
    "            'ValidSet':\"valid_result_{}.csv\",\n",
    "            'TestSet':\"submission_{}.csv\"}\n",
    "\n",
    "#columns = ['DataSet', 'Model'] + list(product(CLASS, ['Precision', 'Recall', 'Accuracy']))\n",
    "columns = [(' ', 'DataSet'), (' ', 'Model'), (' ', 'accuracy')] + \\\n",
    "          [(' ', 'b_accuracy'), (' ', 'b_precision'), (' ', 'b_recall')] + \\\n",
    "          list(product(CLASS, ['Precision', 'Recall']))\n",
    "columns = pd.MultiIndex.from_tuples(columns)\n",
    "table_multiclass = pd.DataFrame(columns=columns)\n",
    "\n",
    "c_matrixes = []\n",
    "for dataset, model in product(DATASETS.keys(), MODELS):\n",
    "    #import pdb\n",
    "    #pdb.set_trace()\n",
    "    df = pd.read_csv(RES_DIR + DATASETS[dataset].format(model))\n",
    "    gt_cat = df['gt'].copy()\n",
    "    try:\n",
    "        preds_cat = np.argmax(df.loc[:, 'preds_0':'preds_4'].values, axis=1)\n",
    "    except:\n",
    "        preds_cat = np.argmax(df.loc[:, 'positive_0':'positive_4'].values, axis=1)\n",
    "    gt_cat[gt_cat == 5] = 4\n",
    "    accuracy = accuracy_score(gt_cat, preds_cat)\n",
    "    \n",
    "    gt_b = (gt_cat > 0).astype(np.uint8)\n",
    "    preds_b = (preds_cat > 0).astype(np.uint8)\n",
    "    b_accuracy = accuracy_score(gt_b, preds_b)\n",
    "    b_precision = precision_score(gt_b, preds_b)\n",
    "    b_recall = recall_score(gt_b, preds_b)\n",
    "    \n",
    "    temp = [dataset, model, accuracy] + [b_accuracy, b_precision, b_recall]\n",
    "    for clazz in range(len(CLASS)):\n",
    "        precision = precision_score(gt_cat == clazz, preds_cat == clazz)\n",
    "        recall = recall_score(gt_cat == clazz, preds_cat == clazz)\n",
    "        #accuracy = accuracy_score(gt_cat == clazz, preds_cat == clazz)\n",
    "        temp += [precision, recall]\n",
    "        \n",
    "    c_matrix = confusion_matrix(gt_cat, preds_cat)    \n",
    "    c_matrixes.append(c_matrix)      \n",
    "    table_multiclass = table_multiclass.append(dict(zip(columns, temp)), ignore_index=True)"
   ]
  },
  {
   "cell_type": "code",
   "execution_count": 23,
   "metadata": {
    "ExecuteTime": {
     "end_time": "2019-03-04T02:45:06.202807Z",
     "start_time": "2019-03-04T02:45:06.169915Z"
    }
   },
   "outputs": [
    {
     "data": {
      "text/html": [
       "<div>\n",
       "<style scoped>\n",
       "    .dataframe tbody tr th:only-of-type {\n",
       "        vertical-align: middle;\n",
       "    }\n",
       "\n",
       "    .dataframe tbody tr th {\n",
       "        vertical-align: top;\n",
       "    }\n",
       "\n",
       "    .dataframe thead tr th {\n",
       "        text-align: left;\n",
       "    }\n",
       "</style>\n",
       "<table border=\"1\" class=\"dataframe\">\n",
       "  <thead>\n",
       "    <tr>\n",
       "      <th></th>\n",
       "      <th colspan=\"6\" halign=\"left\"></th>\n",
       "      <th colspan=\"2\" halign=\"left\">Norm</th>\n",
       "      <th colspan=\"2\" halign=\"left\">LSIL</th>\n",
       "      <th colspan=\"2\" halign=\"left\">HSIL</th>\n",
       "      <th colspan=\"2\" halign=\"left\">LSIL_HPV</th>\n",
       "      <th colspan=\"2\" halign=\"left\">SCC</th>\n",
       "    </tr>\n",
       "    <tr>\n",
       "      <th></th>\n",
       "      <th>DataSet</th>\n",
       "      <th>Model</th>\n",
       "      <th>accuracy</th>\n",
       "      <th>b_accuracy</th>\n",
       "      <th>b_precision</th>\n",
       "      <th>b_recall</th>\n",
       "      <th>Precision</th>\n",
       "      <th>Recall</th>\n",
       "      <th>Precision</th>\n",
       "      <th>Recall</th>\n",
       "      <th>Precision</th>\n",
       "      <th>Recall</th>\n",
       "      <th>Precision</th>\n",
       "      <th>Recall</th>\n",
       "      <th>Precision</th>\n",
       "      <th>Recall</th>\n",
       "    </tr>\n",
       "  </thead>\n",
       "  <tbody>\n",
       "    <tr>\n",
       "      <th>0</th>\n",
       "      <td>TestSet</td>\n",
       "      <td>Warp_Up_All_CellBased_0.5_MultiClass_RGB_NormalLoss</td>\n",
       "      <td>0.565217</td>\n",
       "      <td>0.869565</td>\n",
       "      <td>0.903846</td>\n",
       "      <td>0.921569</td>\n",
       "      <td>0.764706</td>\n",
       "      <td>0.722222</td>\n",
       "      <td>0.545455</td>\n",
       "      <td>0.666667</td>\n",
       "      <td>0.371429</td>\n",
       "      <td>0.433333</td>\n",
       "      <td>0.384615</td>\n",
       "      <td>0.227273</td>\n",
       "      <td>0.695652</td>\n",
       "      <td>0.695652</td>\n",
       "    </tr>\n",
       "    <tr>\n",
       "      <th>1</th>\n",
       "      <td>ValidSet</td>\n",
       "      <td>Warp_Up_All_CellBased_0.5_MultiClass_RGB_NormalLoss</td>\n",
       "      <td>0.600770</td>\n",
       "      <td>0.893453</td>\n",
       "      <td>0.915254</td>\n",
       "      <td>0.942408</td>\n",
       "      <td>0.825397</td>\n",
       "      <td>0.757282</td>\n",
       "      <td>0.592814</td>\n",
       "      <td>0.638710</td>\n",
       "      <td>0.497297</td>\n",
       "      <td>0.550898</td>\n",
       "      <td>0.448598</td>\n",
       "      <td>0.387097</td>\n",
       "      <td>0.557252</td>\n",
       "      <td>0.574803</td>\n",
       "    </tr>\n",
       "    <tr>\n",
       "      <th>2</th>\n",
       "      <td>TrainSet</td>\n",
       "      <td>Warp_Up_All_CellBased_0.5_MultiClass_RGB_NormalLoss</td>\n",
       "      <td>0.994865</td>\n",
       "      <td>0.997433</td>\n",
       "      <td>0.997387</td>\n",
       "      <td>0.999127</td>\n",
       "      <td>0.997561</td>\n",
       "      <td>0.992718</td>\n",
       "      <td>1.000000</td>\n",
       "      <td>1.000000</td>\n",
       "      <td>0.994012</td>\n",
       "      <td>0.994012</td>\n",
       "      <td>0.997972</td>\n",
       "      <td>0.991935</td>\n",
       "      <td>0.982524</td>\n",
       "      <td>0.996063</td>\n",
       "    </tr>\n",
       "  </tbody>\n",
       "</table>\n",
       "</div>"
      ],
      "text/plain": [
       "                                                                            \\\n",
       "    DataSet                                                Model  accuracy   \n",
       "0  TestSet   Warp_Up_All_CellBased_0.5_MultiClass_RGB_NormalLoss  0.565217   \n",
       "1  ValidSet  Warp_Up_All_CellBased_0.5_MultiClass_RGB_NormalLoss  0.600770   \n",
       "2  TrainSet  Warp_Up_All_CellBased_0.5_MultiClass_RGB_NormalLoss  0.994865   \n",
       "\n",
       "                                        Norm                LSIL            \\\n",
       "  b_accuracy b_precision  b_recall Precision    Recall Precision    Recall   \n",
       "0  0.869565   0.903846    0.921569  0.764706  0.722222  0.545455  0.666667   \n",
       "1  0.893453   0.915254    0.942408  0.825397  0.757282  0.592814  0.638710   \n",
       "2  0.997433   0.997387    0.999127  0.997561  0.992718  1.000000  1.000000   \n",
       "\n",
       "       HSIL            LSIL_HPV                 SCC            \n",
       "  Precision    Recall Precision    Recall Precision    Recall  \n",
       "0  0.371429  0.433333  0.384615  0.227273  0.695652  0.695652  \n",
       "1  0.497297  0.550898  0.448598  0.387097  0.557252  0.574803  \n",
       "2  0.994012  0.994012  0.997972  0.991935  0.982524  0.996063  "
      ]
     },
     "execution_count": 23,
     "metadata": {},
     "output_type": "execute_result"
    }
   ],
   "source": [
    "pd.set_option('display.max_colwidth', -1)\n",
    "table_multiclass"
   ]
  },
  {
   "cell_type": "code",
   "execution_count": null,
   "metadata": {
    "ExecuteTime": {
     "end_time": "2019-02-22T07:00:32.076651Z",
     "start_time": "2019-02-22T07:00:32.066353Z"
    }
   },
   "outputs": [],
   "source": [
    "table_multiclass.to_csv('./multicalss.csv')"
   ]
  },
  {
   "cell_type": "code",
   "execution_count": null,
   "metadata": {
    "ExecuteTime": {
     "end_time": "2019-02-27T12:14:15.109019Z",
     "start_time": "2019-02-27T12:14:10.795893Z"
    }
   },
   "outputs": [],
   "source": [
    "visual_cmatrix(c_matrixes[-3])"
   ]
  },
  {
   "cell_type": "code",
   "execution_count": null,
   "metadata": {
    "ExecuteTime": {
     "end_time": "2019-01-24T02:29:12.183248Z",
     "start_time": "2019-01-24T02:29:12.179084Z"
    }
   },
   "outputs": [],
   "source": [
    "print(c_matrixes[0])"
   ]
  },
  {
   "cell_type": "code",
   "execution_count": null,
   "metadata": {
    "ExecuteTime": {
     "end_time": "2019-02-27T12:13:47.616316Z",
     "start_time": "2019-02-27T12:13:47.564563Z"
    }
   },
   "outputs": [],
   "source": [
    "def visual_mis_classified(true_class, pred_class, df):\n",
    "    if type(true_class) == str:\n",
    "        true_class = CLASS.index(true_class)\n",
    "    if type(pred_class) == str:\n",
    "        pred_class = CLASS.index(pred_class)\n",
    "    #gt == 5 must change to 4 \n",
    "    \n",
    "    try:\n",
    "        preds_cat = np.argmax(df.loc[:, 'preds_0':'preds_4'].values, axis=1)\n",
    "    except:\n",
    "        preds_cat = np.argmax(df.loc[:, 'positive_0':'positive_4'].values, axis=1)\n",
    "   \n",
    "    file_names = df.loc[(df['gt'] == true_class) & (preds_cat == pred_class), 'name']\n",
    "    \n",
    "    fig, axs = plt.subplots(nrows=len(file_names)//5+1, ncols=5, constrained_layout=False,figsize=(20,20))\n",
    "    for i,ax in enumerate(axs.flatten()):\n",
    "        if i<len(file_names):\n",
    "            img = cv2.imread(file_names.iloc[i])\n",
    "            img = cv2.cvtColor(img,cv2.COLOR_BGR2RGB)\n",
    "            ax.imshow(img)\n",
    "    return list(file_names)"
   ]
  },
  {
   "cell_type": "code",
   "execution_count": null,
   "metadata": {
    "ExecuteTime": {
     "end_time": "2019-02-03T01:47:46.419106Z",
     "start_time": "2019-02-03T01:47:46.386550Z"
    }
   },
   "outputs": [],
   "source": [
    "PADDING = \"Warp\" #{Double_ZoomOut_Padding, Padding, Warp}\n",
    "FOLD_MODE = \"CellBased\" #{CellBased, FovBased}\n",
    "DROPOUT = 0.5\n",
    "CLF_MODE = \"MultiClass\" #{MultiClass, Binary}\n",
    "COLOR_MODE = \"RGB\"\n",
    "#COLOR_MODE = ['HSV_CLAHE_V', 'HSV_CLAHE_S', 'HSV_CLAHE_SV', 'LAB_CLAHE_L', 'RGB',\"HIST_BATCH_EQ\"] \n",
    "#{HSV_CLAHE_V, HSV_CLAHE_S, HSV_CLAHE_SV, LAB_CLAHE_L, RGB}\n",
    "#AUG_MODE = ['Minority', 'RandomRotate', 'Majority_Down_Minority_Up', 'Majority_Down']\n",
    "AUG_MODE = ['Up_All']\n",
    "#AUG_MODE = 'RandomRotate'\n",
    "\n",
    "MODELS = ['{}_{}_{}_{}_{}_{}'.format(PADDING, aug_mode, FOLD_MODE, DROPOUT, CLF_MODE, COLOR_MODE) \n",
    "             for aug_mode in AUG_MODE]\n",
    "\n",
    "#MODELS = ['{}_{}_{}_{}_{}_{}'.format(PADDING, AUG_MODE, FOLD_MODE, DROPOUT, CLF_MODE, color_mode) \n",
    "#             for color_mode in COLOR_MODE]\n",
    "\n",
    "DATASETS = {'TrainSet':\"train_result_{}.csv\",\n",
    "            'ValidSet':\"valid_result_{}.csv\",\n",
    "            'TestSet':\"submission_{}.csv\"}\n",
    "\n",
    "\n",
    "_df = pd.read_csv(RES_DIR + DATASETS['TestSet'].format(MODELS[1]))\n",
    "#_df.loc[_df['gt']==5,'gt'] = 4"
   ]
  },
  {
   "cell_type": "code",
   "execution_count": null,
   "metadata": {
    "ExecuteTime": {
     "end_time": "2019-02-27T12:17:44.538018Z",
     "start_time": "2019-02-27T12:17:43.594835Z"
    }
   },
   "outputs": [],
   "source": [
    "#file_name = visual_mis_classified('LSIL_HPV', 'Norm', df)"
   ]
  },
  {
   "cell_type": "code",
   "execution_count": null,
   "metadata": {
    "ExecuteTime": {
     "end_time": "2019-01-24T02:35:27.306275Z",
     "start_time": "2019-01-24T02:35:27.300578Z"
    }
   },
   "outputs": [],
   "source": [
    "#print(file_name)"
   ]
  },
  {
   "cell_type": "code",
   "execution_count": null,
   "metadata": {
    "ExecuteTime": {
     "end_time": "2019-01-24T02:35:28.599030Z",
     "start_time": "2019-01-24T02:35:28.596334Z"
    }
   },
   "outputs": [],
   "source": [
    "#import glob"
   ]
  }
 ],
 "metadata": {
  "kernelspec": {
   "display_name": "Python 3",
   "language": "python",
   "name": "python3"
  },
  "language_info": {
   "codemirror_mode": {
    "name": "ipython",
    "version": 2
   },
   "file_extension": ".py",
   "mimetype": "text/x-python",
   "name": "python",
   "nbconvert_exporter": "python",
   "pygments_lexer": "ipython2",
   "version": "2.7.15rc1"
  },
  "toc": {
   "base_numbering": 1,
   "nav_menu": {},
   "number_sections": true,
   "sideBar": true,
   "skip_h1_title": false,
   "title_cell": "Table of Contents",
   "title_sidebar": "Contents",
   "toc_cell": false,
   "toc_position": {
    "height": "calc(100% - 180px)",
    "left": "10px",
    "top": "150px",
    "width": "165px"
   },
   "toc_section_display": true,
   "toc_window_display": false
  },
  "varInspector": {
   "cols": {
    "lenName": 16,
    "lenType": 16,
    "lenVar": 40
   },
   "kernels_config": {
    "python": {
     "delete_cmd_postfix": "",
     "delete_cmd_prefix": "del ",
     "library": "var_list.py",
     "varRefreshCmd": "print(var_dic_list())"
    },
    "r": {
     "delete_cmd_postfix": ") ",
     "delete_cmd_prefix": "rm(",
     "library": "var_list.r",
     "varRefreshCmd": "cat(var_dic_list()) "
    }
   },
   "types_to_exclude": [
    "module",
    "function",
    "builtin_function_or_method",
    "instance",
    "_Feature"
   ],
   "window_display": false
  }
 },
 "nbformat": 4,
 "nbformat_minor": 2
}
