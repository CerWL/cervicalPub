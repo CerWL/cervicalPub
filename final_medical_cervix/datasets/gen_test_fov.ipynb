{
 "cells": [
  {
   "cell_type": "code",
   "execution_count": 4,
   "metadata": {
    "ExecuteTime": {
     "end_time": "2019-01-16T04:06:13.646099Z",
     "start_time": "2019-01-16T04:06:13.641245Z"
    }
   },
   "outputs": [],
   "source": [
    "import glob\n",
    "import shutil\n",
    "import cv2\n",
    "import os\n",
    "import numpy as np\n"
   ]
  },
  {
   "cell_type": "markdown",
   "metadata": {},
   "source": [
    "## Copy test Fovs"
   ]
  },
  {
   "cell_type": "code",
   "execution_count": null,
   "metadata": {},
   "outputs": [],
   "source": [
    "path1 = '/opt/zhuoyao_workspace/Datasets/private_cervical/2018-12-14/FJ_1804615/Images'\n",
    "path2 = '/opt/zhuoyao_workspace/Datasets/private_cervical/2018-12-14/HD_180130/Images'\n",
    "path3 = '/opt/zhuoyao_workspace/Datasets/private_cervical/2018-12-14/HYN_HSIL_T219590/Images'\n",
    "path4 = '/opt/zhuoyao_workspace/Datasets/private_cervical/2018-12-14/HYN_LSIL_T199784/Images'\n",
    "\n",
    "\n",
    "filelist_HSIL = os.listdir(path1)\n",
    "filelist_LSIL = os.listdir(path2)\n",
    "filelist_SCC = os.listdir(path3)\n",
    "filelist_LSIL_HPV = os.listdir(path4)\n",
    "#filelist_NILM = os.listdir(path5)\n",
    "\n",
    "filelists = [filelist_HSIL, filelist_LSIL, filelist_SCC, filelist_LSIL_HPV]\n",
    "paths = [path1, path2, path3, path4]\n",
    "c_lists = []\n",
    "for filelist, path in zip(filelists, paths):\n",
    "    index = np.random.choice(len(filelist), size=25)\n",
    "    c_list = []\n",
    "    for file in np.array(filelist)[index]:\n",
    "        c_list.append(os.path.join(path,file))\n",
    "    c_lists.append(c_list)\n",
    "\n",
    "#prefix = ['HSIL_', 'LSIL_', 'SCC_', 'LSIL_HPV', 'NILM_H_']\n",
    "\n",
    "prefix = ['FJ_', 'HD_', 'HYN_HSIL_', 'HYN_LSIL_']\n",
    "dst_path = '/opt/zhuoyao_workspace/final_medical_cervix_2/datasets/origin_test'\n",
    "for i, c_list in enumerate(c_lists):\n",
    "    for file in c_list:\n",
    "        write_path = os.path.join(dst_path, prefix[i] + os.path.basename(file).split('.')[0]+'.png')\n",
    "        img = cv2.imread(file, 1)\n",
    "        cv2.imwrite(write_path, img)"
   ]
  },
  {
   "cell_type": "markdown",
   "metadata": {},
   "source": [
    "## Copy labeled file to project"
   ]
  },
  {
   "cell_type": "code",
   "execution_count": 11,
   "metadata": {
    "ExecuteTime": {
     "end_time": "2019-01-16T05:14:36.277505Z",
     "start_time": "2019-01-16T05:14:36.263891Z"
    }
   },
   "outputs": [],
   "source": [
    "def copy_data_to_project(src_paths, dst_path, label_paths, prefix_list):\n",
    "    #assert len(src_paths) == len(dst_paths),\"Src list and dst list missmatch\"\n",
    "    if label_paths:\n",
    "        assert len(src_paths) == len(label_paths), \"Src list and label_list missmatch\"\n",
    "    if prefix_list:\n",
    "        assert len(src_paths) == len(prefix_list), \"Src list and prefix list missmatch\"\n",
    "    \n",
    "    labellists = []\n",
    "    for label_path in label_paths:\n",
    "        labels = os.listdir(label_path)\n",
    "        labels.sort()\n",
    "        labellists.append(labels)\n",
    "        \n",
    "    for src_path, labellist, prefix in zip(src_paths, labellists, prefix_list):\n",
    "        for file_name in labellist:\n",
    "            if file_name.split('.')[-1] not in ['JPG', 'PNG', 'jpg', 'png']:\n",
    "                continue\n",
    "            file = os.path.join(src_path, file_name)\n",
    "            if os.path.exists(file):\n",
    "                write_path = os.path.join(dst_path, prefix + '_' + file_name.split('.')[0]+'.png')\n",
    "                img = cv2.imread(file, 1)\n",
    "                cv2.imwrite(write_path, img)\n",
    "            else:\n",
    "                print(\"File did not exsit: %s\" % file)\n",
    "        "
   ]
  },
  {
   "cell_type": "code",
   "execution_count": 13,
   "metadata": {
    "ExecuteTime": {
     "end_time": "2019-01-16T05:35:01.821147Z",
     "start_time": "2019-01-16T05:34:48.714357Z"
    }
   },
   "outputs": [],
   "source": [
    "src_paths = ['/opt/zhuoyao_workspace/Datasets/private_cervical/2019-1-15/src/HSIL_1818752/Images']\n",
    "dst_path = '/opt/zhuoyao_workspace/final_medical_cervix_2/datasets/origin_train/origin_01_15'\n",
    "label_paths = ['/opt/zhuoyao_workspace/Datasets/private_cervical/2019-1-15/label/HSIL_1818752/']\n",
    "copy_data_to_project(src_paths, dst_path, label_paths, ['HSIL'])"
   ]
  },
  {
   "cell_type": "markdown",
   "metadata": {},
   "source": [
    "## Copy different fovs from same slide"
   ]
  },
  {
   "cell_type": "code",
   "execution_count": 61,
   "metadata": {
    "ExecuteTime": {
     "end_time": "2019-01-03T05:49:45.284030Z",
     "start_time": "2019-01-03T05:49:45.257680Z"
    }
   },
   "outputs": [],
   "source": [
    "import glob\n",
    "import os\n",
    "import random\n",
    "import re\n",
    "import cv2"
   ]
  },
  {
   "cell_type": "markdown",
   "metadata": {
    "ExecuteTime": {
     "end_time": "2019-01-03T06:06:16.761018Z",
     "start_time": "2019-01-03T06:06:16.756284Z"
    }
   },
   "source": [
    "data_set = '../../../../Datasets/private_cervical/origin/'\n",
    "dst_dir = '../../../datasets/origin_test/2019-01-03'\n",
    "prev = ['../../../datasets/origin_train/origin_12_06', \n",
    "        '../../../datasets/origin_test/2018-12-06/', \n",
    "        '../../../datasets/origin_test/2018-12-14/']"
   ]
  },
  {
   "cell_type": "code",
   "execution_count": 81,
   "metadata": {
    "ExecuteTime": {
     "end_time": "2019-01-04T06:38:16.440946Z",
     "start_time": "2019-01-04T06:38:16.435875Z"
    }
   },
   "outputs": [],
   "source": [
    "data_set = '../../../../Datasets/private_cervical/2018-12-14/'\n",
    "dst_dir = '../../../datasets/origin_test/2019-01-04'\n",
    "prev = ['../../../datasets/origin_train/origin_12_06', \n",
    "        '../../../datasets/origin_test/2018-12-06/', \n",
    "        '../../../datasets/origin_test/2018-12-14/']"
   ]
  },
  {
   "cell_type": "code",
   "execution_count": 89,
   "metadata": {
    "ExecuteTime": {
     "end_time": "2019-01-04T06:44:16.051033Z",
     "start_time": "2019-01-04T06:44:15.995312Z"
    }
   },
   "outputs": [],
   "source": [
    "dirs = os.listdir(data_set)\n",
    "\n",
    "if not os.path.exists(dst_dir):\n",
    "    os.makedirs(dst_dir)\n",
    "if os.listdir(dst_dir):\n",
    "    for file in glob.glob(dst_dir + '/*'):\n",
    "        os.remove(file)"
   ]
  },
  {
   "cell_type": "code",
   "execution_count": 90,
   "metadata": {
    "ExecuteTime": {
     "end_time": "2019-01-04T06:44:56.330619Z",
     "start_time": "2019-01-04T06:44:20.427165Z"
    }
   },
   "outputs": [],
   "source": [
    "for folder in dirs:\n",
    "    abs_folder = os.path.join(data_set, folder, 'Images')\n",
    "    if os.path.isdir(abs_folder):\n",
    "        files = os.listdir(abs_folder)\n",
    "        splits = re.split('[()（）,_]', folder)\n",
    "        if len(splits) > 2:\n",
    "            prefix = splits[1] if not splits[2] in ['HPV', \"HSIL\", \"LSIL\"] else splits[1] + '_' + splits[2]\n",
    "        else:\n",
    "            prefix = splits[1]\n",
    "        index = random.sample(range( len(files) ), 20)\n",
    "        files = list(map(lambda x: files[x],index))\n",
    "        for file in files:\n",
    "            for prev_folder in prev:\n",
    "                if not file in os.listdir(prev_folder):\n",
    "                    src = os.path.join(abs_folder,file)\n",
    "                    dst = os.path.join(dst_dir,prefix + '_' + file[:9] + '.png')\n",
    "                    cv2.imwrite(dst, cv2.imread(src))\n",
    "                    \n",
    "            \n",
    "            "
   ]
  },
  {
   "cell_type": "code",
   "execution_count": 72,
   "metadata": {
    "ExecuteTime": {
     "end_time": "2019-01-03T05:57:28.319693Z",
     "start_time": "2019-01-03T05:57:28.295223Z"
    }
   },
   "outputs": [],
   "source": [
    "for folder in prev:\n",
    "    for file in os.listdir(dst_dir):\n",
    "        if file in os.listdir(folder):\n",
    "            print(file)"
   ]
  },
  {
   "cell_type": "code",
   "execution_count": 80,
   "metadata": {
    "ExecuteTime": {
     "end_time": "2019-01-03T06:06:19.727318Z",
     "start_time": "2019-01-03T06:06:19.721348Z"
    }
   },
   "outputs": [
    {
     "data": {
      "text/plain": [
       "60"
      ]
     },
     "execution_count": 80,
     "metadata": {},
     "output_type": "execute_result"
    }
   ],
   "source": [
    "len(os.listdir(dst_dir))"
   ]
  }
 ],
 "metadata": {
  "kernelspec": {
   "display_name": "Python 3",
   "language": "python",
   "name": "python3"
  },
  "language_info": {
   "codemirror_mode": {
    "name": "ipython",
    "version": 3
   },
   "file_extension": ".py",
   "mimetype": "text/x-python",
   "name": "python",
   "nbconvert_exporter": "python",
   "pygments_lexer": "ipython3",
   "version": "3.6.7"
  },
  "toc": {
   "base_numbering": 1,
   "nav_menu": {},
   "number_sections": true,
   "sideBar": true,
   "skip_h1_title": false,
   "title_cell": "Table of Contents",
   "title_sidebar": "Contents",
   "toc_cell": false,
   "toc_position": {},
   "toc_section_display": true,
   "toc_window_display": false
  },
  "varInspector": {
   "cols": {
    "lenName": 16,
    "lenType": 16,
    "lenVar": 40
   },
   "kernels_config": {
    "python": {
     "delete_cmd_postfix": "",
     "delete_cmd_prefix": "del ",
     "library": "var_list.py",
     "varRefreshCmd": "print(var_dic_list())"
    },
    "r": {
     "delete_cmd_postfix": ") ",
     "delete_cmd_prefix": "rm(",
     "library": "var_list.r",
     "varRefreshCmd": "cat(var_dic_list()) "
    }
   },
   "types_to_exclude": [
    "module",
    "function",
    "builtin_function_or_method",
    "instance",
    "_Feature"
   ],
   "window_display": false
  }
 },
 "nbformat": 4,
 "nbformat_minor": 2
}
